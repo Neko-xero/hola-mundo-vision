{
 "cells": [
  {
   "cell_type": "markdown",
   "id": "e671078b",
   "metadata": {},
   "source": [
    "# Introducción\n",
    "\n",
    "Este cuaderno tiene como objetivo explorar y demostrar conceptos básicos de programación en Python. A continuación, se incluyen ejemplos de código y explicaciones para facilitar el aprendizaje.\n",
    "\n",
    "## Contenido\n",
    "\n",
    "1. **Impresión de mensajes**: Uso de la función `print` para mostrar mensajes en la consola.\n",
    "2. **Estructuras de datos**: Creación y manipulación de listas.\n",
    "3. **Bucles**: Uso de bucles `for` para iterar sobre rangos de valores.\n",
    "\n",
    "¡Comencemos!\n"
   ]
  },
  {
   "cell_type": "markdown",
   "id": "edc0a610",
   "metadata": {},
   "source": [
    "# ¿Qué es un vector en NumPy?\n",
    "\n",
    "Un **vector** en NumPy es una estructura de datos unidimensional que se utiliza para almacenar una colección de valores del mismo tipo. Es similar a una lista en Python, pero está optimizado para operaciones matemáticas y computacionales.\n",
    "\n",
    "## Características principales de un vector en NumPy:\n",
    "1. **Unidimensional**: Un vector tiene una sola dimensión (1D).\n",
    "2. **Homogeneidad**: Todos los elementos del vector deben ser del mismo tipo (por ejemplo, enteros o flotantes).\n",
    "3. **Eficiencia**: Los vectores de NumPy son más rápidos y consumen menos memoria que las listas de Python para operaciones numéricas.\n",
    "\n",
    "## Ejemplo de creación de un vector en NumPy\n",
    "\n",
    "A continuación, se muestra cómo crear y trabajar con un vector en NumPy:\n",
    "\n",
    "```python\n",
    "import numpy as np\n",
    "\n",
    "# Crear un vector unidimensional\n",
    "vector = np.array([1, 2, 3, 4, 5])\n",
    "\n",
    "# Mostrar el vector\n",
    "print(\"Vector:\", vector)\n",
    "\n",
    "# Acceder a elementos del vector\n",
    "print(\"Primer elemento:\", vector[0])\n",
    "print(\"Último elemento:\", vector[-1])\n",
    "\n",
    "# Realizar operaciones matemáticas\n",
    "vector_doblado = vector * 2\n",
    "print(\"Vector multiplicado por 2:\", vector_doblado)\n",
    "\n",
    "# Calcular la suma de los elementos\n",
    "suma = np.sum(vector)\n",
    "print(\"Suma de los elementos:\", suma)"
   ]
  },
  {
   "cell_type": "markdown",
   "id": "3300a92b",
   "metadata": {},
   "source": [
    "\n",
    "## Explicación del Diagrama\n",
    "\n",
    "1. **Capa de Entrada (Input Layer)**:\n",
    "   - Recibe los datos de entrada (`x1`, `x2`, `x3`).\n",
    "   - Cada nodo representa una característica del conjunto de datos.\n",
    "\n",
    "2. **Capa Oculta (Hidden Layer)**:\n",
    "   - Procesa los datos de entrada aplicando pesos, sesgos y una función de activación.\n",
    "   - Los nodos (`h1`, `h2`, `h3`) representan las neuronas que realizan cálculos intermedios.\n",
    "\n",
    "3. **Capa de Salida (Output Layer)**:\n",
    "   - Genera el resultado final (`y1`, `y2`), que puede ser una predicción o clasificación.\n",
    "\n",
    "## Flujo de Datos\n",
    "\n",
    "1. Los datos de entrada (`x1`, `x2`, `x3`) se multiplican por pesos y se suman con un sesgo.\n",
    "2. El resultado pasa por una función de activación (como ReLU o Sigmoid) en la capa oculta.\n",
    "3. Finalmente, la capa de salida produce el resultado procesado.\n",
    "\n",
    "Este es un modelo básico de red neuronal que puede ampliarse con más capas ocultas o nodos según la complejidad del problema."
   ]
  },
  {
   "cell_type": "code",
   "execution_count": null,
   "id": "3dba210f",
   "metadata": {},
   "outputs": [],
   "source": [
    "print(\"hola mundo\")"
   ]
  }
 ],
 "metadata": {
  "kernelspec": {
   "display_name": "redes_neuronales",
   "language": "python",
   "name": "python3"
  },
  "language_info": {
   "codemirror_mode": {
    "name": "ipython",
    "version": 3
   },
   "file_extension": ".py",
   "mimetype": "text/x-python",
   "name": "python",
   "nbconvert_exporter": "python",
   "pygments_lexer": "ipython3",
   "version": "3.13.2"
  }
 },
 "nbformat": 4,
 "nbformat_minor": 5
}
